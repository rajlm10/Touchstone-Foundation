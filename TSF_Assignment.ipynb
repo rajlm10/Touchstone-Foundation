{
  "nbformat": 4,
  "nbformat_minor": 0,
  "metadata": {
    "colab": {
      "name": "TSF_Assignment.ipynb",
      "provenance": [],
      "authorship_tag": "ABX9TyNOY14PZ4X/KFs00W4ohvIY",
      "include_colab_link": true
    },
    "kernelspec": {
      "name": "python3",
      "display_name": "Python 3"
    },
    "language_info": {
      "name": "python"
    }
  },
  "cells": [
    {
      "cell_type": "markdown",
      "metadata": {
        "id": "view-in-github",
        "colab_type": "text"
      },
      "source": [
        "<a href=\"https://colab.research.google.com/github/rajlm10/Touchstone-Foundation/blob/main/TSF_Assignment.ipynb\" target=\"_parent\"><img src=\"https://colab.research.google.com/assets/colab-badge.svg\" alt=\"Open In Colab\"/></a>"
      ]
    },
    {
      "cell_type": "markdown",
      "metadata": {
        "id": "6cWM2xJUmfN6"
      },
      "source": [
        "**TSF Foundation Assessment - Raj Sangani** <br>\n",
        "*My approach :*<br>\n",
        "\n",
        "\n",
        "1.   To find the features that really matter, I will use backward elimination with a significance level of 5 percent.\n",
        "2.   I will use the statsmodels api to fit least squares regression and get the P values for every fit.\n",
        "3. To explain how well variables define the demands, I will again use the optimal model's coefficients to see the correlation.\n",
        "4. I will use the model with only the neccessary features to predict on a test set from 'day.csv' **Please note that test.csv on kaggle does not contain the prediction column hence I had to use day.csv for testing as well.**\n",
        "5. I will evaluate using the *R squared and Adjusted R squared metric.*\n",
        "\n",
        "\n",
        "\n",
        "\n"
      ]
    },
    {
      "cell_type": "code",
      "metadata": {
        "colab": {
          "base_uri": "https://localhost:8080/"
        },
        "id": "-X2M67xMmhd7",
        "outputId": "a4510767-13e2-41ca-a39d-8853b4780b3d"
      },
      "source": [
        "import pandas as pd\n",
        "import numpy as np\n",
        "import statsmodels.api as sm\n"
      ],
      "execution_count": 1,
      "outputs": [
        {
          "output_type": "stream",
          "text": [
            "/usr/local/lib/python3.7/dist-packages/statsmodels/tools/_testing.py:19: FutureWarning: pandas.util.testing is deprecated. Use the functions in the public API at pandas.testing instead.\n",
            "  import pandas.util.testing as tm\n"
          ],
          "name": "stderr"
        }
      ]
    },
    {
      "cell_type": "code",
      "metadata": {
        "id": "Q0j9G8l7JvwS"
      },
      "source": [
        "dataset = pd.read_csv('day.csv')"
      ],
      "execution_count": 2,
      "outputs": []
    },
    {
      "cell_type": "code",
      "metadata": {
        "colab": {
          "base_uri": "https://localhost:8080/",
          "height": 309
        },
        "id": "xUcNgX3AKG_4",
        "outputId": "866bd8e8-70e8-45d2-b0d2-e4be78d7547e"
      },
      "source": [
        "dataset.head()"
      ],
      "execution_count": 3,
      "outputs": [
        {
          "output_type": "execute_result",
          "data": {
            "text/html": [
              "<div>\n",
              "<style scoped>\n",
              "    .dataframe tbody tr th:only-of-type {\n",
              "        vertical-align: middle;\n",
              "    }\n",
              "\n",
              "    .dataframe tbody tr th {\n",
              "        vertical-align: top;\n",
              "    }\n",
              "\n",
              "    .dataframe thead th {\n",
              "        text-align: right;\n",
              "    }\n",
              "</style>\n",
              "<table border=\"1\" class=\"dataframe\">\n",
              "  <thead>\n",
              "    <tr style=\"text-align: right;\">\n",
              "      <th></th>\n",
              "      <th>instant</th>\n",
              "      <th>dteday</th>\n",
              "      <th>season</th>\n",
              "      <th>yr</th>\n",
              "      <th>mnth</th>\n",
              "      <th>holiday</th>\n",
              "      <th>weekday</th>\n",
              "      <th>workingday</th>\n",
              "      <th>weathersit</th>\n",
              "      <th>temp</th>\n",
              "      <th>atemp</th>\n",
              "      <th>hum</th>\n",
              "      <th>windspeed</th>\n",
              "      <th>casual</th>\n",
              "      <th>registered</th>\n",
              "      <th>cnt</th>\n",
              "    </tr>\n",
              "  </thead>\n",
              "  <tbody>\n",
              "    <tr>\n",
              "      <th>0</th>\n",
              "      <td>1</td>\n",
              "      <td>01-01-2018</td>\n",
              "      <td>1</td>\n",
              "      <td>0</td>\n",
              "      <td>1</td>\n",
              "      <td>0</td>\n",
              "      <td>6</td>\n",
              "      <td>0</td>\n",
              "      <td>2</td>\n",
              "      <td>14.110847</td>\n",
              "      <td>18.18125</td>\n",
              "      <td>80.5833</td>\n",
              "      <td>10.749882</td>\n",
              "      <td>331</td>\n",
              "      <td>654</td>\n",
              "      <td>985</td>\n",
              "    </tr>\n",
              "    <tr>\n",
              "      <th>1</th>\n",
              "      <td>2</td>\n",
              "      <td>02-01-2018</td>\n",
              "      <td>1</td>\n",
              "      <td>0</td>\n",
              "      <td>1</td>\n",
              "      <td>0</td>\n",
              "      <td>0</td>\n",
              "      <td>0</td>\n",
              "      <td>2</td>\n",
              "      <td>14.902598</td>\n",
              "      <td>17.68695</td>\n",
              "      <td>69.6087</td>\n",
              "      <td>16.652113</td>\n",
              "      <td>131</td>\n",
              "      <td>670</td>\n",
              "      <td>801</td>\n",
              "    </tr>\n",
              "    <tr>\n",
              "      <th>2</th>\n",
              "      <td>3</td>\n",
              "      <td>03-01-2018</td>\n",
              "      <td>1</td>\n",
              "      <td>0</td>\n",
              "      <td>1</td>\n",
              "      <td>0</td>\n",
              "      <td>1</td>\n",
              "      <td>1</td>\n",
              "      <td>1</td>\n",
              "      <td>8.050924</td>\n",
              "      <td>9.47025</td>\n",
              "      <td>43.7273</td>\n",
              "      <td>16.636703</td>\n",
              "      <td>120</td>\n",
              "      <td>1229</td>\n",
              "      <td>1349</td>\n",
              "    </tr>\n",
              "    <tr>\n",
              "      <th>3</th>\n",
              "      <td>4</td>\n",
              "      <td>04-01-2018</td>\n",
              "      <td>1</td>\n",
              "      <td>0</td>\n",
              "      <td>1</td>\n",
              "      <td>0</td>\n",
              "      <td>2</td>\n",
              "      <td>1</td>\n",
              "      <td>1</td>\n",
              "      <td>8.200000</td>\n",
              "      <td>10.60610</td>\n",
              "      <td>59.0435</td>\n",
              "      <td>10.739832</td>\n",
              "      <td>108</td>\n",
              "      <td>1454</td>\n",
              "      <td>1562</td>\n",
              "    </tr>\n",
              "    <tr>\n",
              "      <th>4</th>\n",
              "      <td>5</td>\n",
              "      <td>05-01-2018</td>\n",
              "      <td>1</td>\n",
              "      <td>0</td>\n",
              "      <td>1</td>\n",
              "      <td>0</td>\n",
              "      <td>3</td>\n",
              "      <td>1</td>\n",
              "      <td>1</td>\n",
              "      <td>9.305237</td>\n",
              "      <td>11.46350</td>\n",
              "      <td>43.6957</td>\n",
              "      <td>12.522300</td>\n",
              "      <td>82</td>\n",
              "      <td>1518</td>\n",
              "      <td>1600</td>\n",
              "    </tr>\n",
              "  </tbody>\n",
              "</table>\n",
              "</div>"
            ],
            "text/plain": [
              "   instant      dteday  season  yr  ...  windspeed  casual  registered   cnt\n",
              "0        1  01-01-2018       1   0  ...  10.749882     331         654   985\n",
              "1        2  02-01-2018       1   0  ...  16.652113     131         670   801\n",
              "2        3  03-01-2018       1   0  ...  16.636703     120        1229  1349\n",
              "3        4  04-01-2018       1   0  ...  10.739832     108        1454  1562\n",
              "4        5  05-01-2018       1   0  ...  12.522300      82        1518  1600\n",
              "\n",
              "[5 rows x 16 columns]"
            ]
          },
          "metadata": {
            "tags": []
          },
          "execution_count": 3
        }
      ]
    },
    {
      "cell_type": "markdown",
      "metadata": {
        "id": "ovm1D2krouuX"
      },
      "source": [
        "As we can see the dataset has many variables which may be redundant and the last column is what we are interested in predicting, the count value. I will omit the dteday column as the year and month columns are also given separately."
      ]
    },
    {
      "cell_type": "code",
      "metadata": {
        "colab": {
          "base_uri": "https://localhost:8080/"
        },
        "id": "vFyunnh_KO4q",
        "outputId": "ca14eaa8-b8d6-4b69-c3b8-cd2faa7ca5fa"
      },
      "source": [
        "X=dataset.iloc[:,2:-1].values # Construct the X np matrix using all but first two and last columns\n",
        "X.shape"
      ],
      "execution_count": 4,
      "outputs": [
        {
          "output_type": "execute_result",
          "data": {
            "text/plain": [
              "(499, 13)"
            ]
          },
          "metadata": {
            "tags": []
          },
          "execution_count": 4
        }
      ]
    },
    {
      "cell_type": "code",
      "metadata": {
        "colab": {
          "base_uri": "https://localhost:8080/"
        },
        "id": "fQXovKDVKn1s",
        "outputId": "82dff363-aa10-41ea-a422-28a9c990a4f2"
      },
      "source": [
        "y=dataset.iloc[:,-1].values #Construct the y matrix using the last (count) column\n",
        "y.shape"
      ],
      "execution_count": 6,
      "outputs": [
        {
          "output_type": "execute_result",
          "data": {
            "text/plain": [
              "(499,)"
            ]
          },
          "metadata": {
            "tags": []
          },
          "execution_count": 6
        }
      ]
    },
    {
      "cell_type": "markdown",
      "metadata": {
        "id": "wXINF7QJpnyM"
      },
      "source": [
        "Now I will prepare the data for backward elimination by appending a column of ones (bias term of equation) to the X matrix\n"
      ]
    },
    {
      "cell_type": "code",
      "metadata": {
        "colab": {
          "base_uri": "https://localhost:8080/"
        },
        "id": "bAKeRZ7yNjNL",
        "outputId": "a7dfdd9f-db11-43d7-a476-fb7cc6694161"
      },
      "source": [
        "X = np.append(arr = np.ones((X.shape[0],1)).astype(int), values = X, axis = 1) \n",
        "X.shape"
      ],
      "execution_count": 9,
      "outputs": [
        {
          "output_type": "execute_result",
          "data": {
            "text/plain": [
              "(499, 14)"
            ]
          },
          "metadata": {
            "tags": []
          },
          "execution_count": 9
        }
      ]
    },
    {
      "cell_type": "markdown",
      "metadata": {
        "id": "FG3wGBstp6B2"
      },
      "source": [
        "I will use the **OLS** (Ordinary Least Squares) regression to find redundant features and build the model"
      ]
    },
    {
      "cell_type": "markdown",
      "metadata": {
        "id": "i6YZqJ3rqMeZ"
      },
      "source": [
        "Initially I fit the data with all columns and as we can see all the **P values** are listed below which will be helpful while determining feature importance"
      ]
    },
    {
      "cell_type": "code",
      "metadata": {
        "colab": {
          "base_uri": "https://localhost:8080/",
          "height": 730
        },
        "id": "jY2z4yjiNwa4",
        "outputId": "c396fa8b-beaa-4ae2-cdc1-99e26b0c1ff0"
      },
      "source": [
        "X_opt = X[:, [0,1,2,3,4,5,6,7,8,9,10,11,12,13]]\n",
        "regressor_OLS = sm.OLS(endog=y, exog=X_opt).fit()\n",
        "regressor_OLS.summary()"
      ],
      "execution_count": 10,
      "outputs": [
        {
          "output_type": "execute_result",
          "data": {
            "text/html": [
              "<table class=\"simpletable\">\n",
              "<caption>OLS Regression Results</caption>\n",
              "<tr>\n",
              "  <th>Dep. Variable:</th>            <td>y</td>        <th>  R-squared:         </th>  <td>   1.000</td> \n",
              "</tr>\n",
              "<tr>\n",
              "  <th>Model:</th>                   <td>OLS</td>       <th>  Adj. R-squared:    </th>  <td>   1.000</td> \n",
              "</tr>\n",
              "<tr>\n",
              "  <th>Method:</th>             <td>Least Squares</td>  <th>  F-statistic:       </th>  <td>3.190e+31</td>\n",
              "</tr>\n",
              "<tr>\n",
              "  <th>Date:</th>             <td>Sat, 17 Apr 2021</td> <th>  Prob (F-statistic):</th>   <td>  0.00</td>  \n",
              "</tr>\n",
              "<tr>\n",
              "  <th>Time:</th>                 <td>16:29:02</td>     <th>  Log-Likelihood:    </th>  <td>  12826.</td> \n",
              "</tr>\n",
              "<tr>\n",
              "  <th>No. Observations:</th>      <td>   499</td>      <th>  AIC:               </th> <td>-2.562e+04</td>\n",
              "</tr>\n",
              "<tr>\n",
              "  <th>Df Residuals:</th>          <td>   485</td>      <th>  BIC:               </th> <td>-2.557e+04</td>\n",
              "</tr>\n",
              "<tr>\n",
              "  <th>Df Model:</th>              <td>    13</td>      <th>                     </th>      <td> </td>    \n",
              "</tr>\n",
              "<tr>\n",
              "  <th>Covariance Type:</th>      <td>nonrobust</td>    <th>                     </th>      <td> </td>    \n",
              "</tr>\n",
              "</table>\n",
              "<table class=\"simpletable\">\n",
              "<tr>\n",
              "    <td></td>       <th>coef</th>     <th>std err</th>      <th>t</th>      <th>P>|t|</th>  <th>[0.025</th>    <th>0.975]</th>  \n",
              "</tr>\n",
              "<tr>\n",
              "  <th>const</th> <td>-2.853e-12</td> <td> 5.78e-13</td> <td>   -4.938</td> <td> 0.000</td> <td>-3.99e-12</td> <td>-1.72e-12</td>\n",
              "</tr>\n",
              "<tr>\n",
              "  <th>x1</th>    <td> 1.064e-12</td> <td> 1.49e-13</td> <td>    7.152</td> <td> 0.000</td> <td> 7.71e-13</td> <td> 1.36e-12</td>\n",
              "</tr>\n",
              "<tr>\n",
              "  <th>x2</th>    <td> 3.155e-12</td> <td> 3.27e-13</td> <td>    9.646</td> <td> 0.000</td> <td> 2.51e-12</td> <td>  3.8e-12</td>\n",
              "</tr>\n",
              "<tr>\n",
              "  <th>x3</th>    <td> 2.895e-13</td> <td> 4.58e-14</td> <td>    6.328</td> <td> 0.000</td> <td>    2e-13</td> <td> 3.79e-13</td>\n",
              "</tr>\n",
              "<tr>\n",
              "  <th>x4</th>    <td> 1.137e-13</td> <td> 4.82e-13</td> <td>    0.236</td> <td> 0.813</td> <td>-8.33e-13</td> <td> 1.06e-12</td>\n",
              "</tr>\n",
              "<tr>\n",
              "  <th>x5</th>    <td> 1.227e-13</td> <td> 3.84e-14</td> <td>    3.198</td> <td> 0.001</td> <td> 4.73e-14</td> <td> 1.98e-13</td>\n",
              "</tr>\n",
              "<tr>\n",
              "  <th>x6</th>    <td> 3.411e-13</td> <td> 2.88e-13</td> <td>    1.183</td> <td> 0.238</td> <td>-2.26e-13</td> <td> 9.08e-13</td>\n",
              "</tr>\n",
              "<tr>\n",
              "  <th>x7</th>    <td>-3.588e-13</td> <td> 1.89e-13</td> <td>   -1.903</td> <td> 0.058</td> <td>-7.29e-13</td> <td> 1.18e-14</td>\n",
              "</tr>\n",
              "<tr>\n",
              "  <th>x8</th>    <td> 1.101e-13</td> <td> 1.29e-13</td> <td>    0.855</td> <td> 0.393</td> <td>-1.43e-13</td> <td> 3.63e-13</td>\n",
              "</tr>\n",
              "<tr>\n",
              "  <th>x9</th>    <td>-1.084e-13</td> <td> 1.19e-13</td> <td>   -0.910</td> <td> 0.363</td> <td>-3.42e-13</td> <td> 1.26e-13</td>\n",
              "</tr>\n",
              "<tr>\n",
              "  <th>x10</th>   <td>  6.55e-15</td> <td>    7e-15</td> <td>    0.936</td> <td> 0.350</td> <td>-7.21e-15</td> <td> 2.03e-14</td>\n",
              "</tr>\n",
              "<tr>\n",
              "  <th>x11</th>   <td>-3.086e-14</td> <td> 1.65e-14</td> <td>   -1.875</td> <td> 0.061</td> <td>-6.32e-14</td> <td> 1.48e-15</td>\n",
              "</tr>\n",
              "<tr>\n",
              "  <th>x12</th>   <td>    1.0000</td> <td> 2.25e-16</td> <td> 4.44e+15</td> <td> 0.000</td> <td>    1.000</td> <td>    1.000</td>\n",
              "</tr>\n",
              "<tr>\n",
              "  <th>x13</th>   <td>    1.0000</td> <td> 1.53e-16</td> <td> 6.52e+15</td> <td> 0.000</td> <td>    1.000</td> <td>    1.000</td>\n",
              "</tr>\n",
              "</table>\n",
              "<table class=\"simpletable\">\n",
              "<tr>\n",
              "  <th>Omnibus:</th>       <td>25.167</td> <th>  Durbin-Watson:     </th> <td>   0.163</td>\n",
              "</tr>\n",
              "<tr>\n",
              "  <th>Prob(Omnibus):</th> <td> 0.000</td> <th>  Jarque-Bera (JB):  </th> <td>  21.483</td>\n",
              "</tr>\n",
              "<tr>\n",
              "  <th>Skew:</th>          <td>-0.433</td> <th>  Prob(JB):          </th> <td>2.16e-05</td>\n",
              "</tr>\n",
              "<tr>\n",
              "  <th>Kurtosis:</th>      <td> 2.467</td> <th>  Cond. No.          </th> <td>2.66e+04</td>\n",
              "</tr>\n",
              "</table><br/><br/>Warnings:<br/>[1] Standard Errors assume that the covariance matrix of the errors is correctly specified.<br/>[2] The condition number is large, 2.66e+04. This might indicate that there are<br/>strong multicollinearity or other numerical problems."
            ],
            "text/plain": [
              "<class 'statsmodels.iolib.summary.Summary'>\n",
              "\"\"\"\n",
              "                            OLS Regression Results                            \n",
              "==============================================================================\n",
              "Dep. Variable:                      y   R-squared:                       1.000\n",
              "Model:                            OLS   Adj. R-squared:                  1.000\n",
              "Method:                 Least Squares   F-statistic:                 3.190e+31\n",
              "Date:                Sat, 17 Apr 2021   Prob (F-statistic):               0.00\n",
              "Time:                        16:29:02   Log-Likelihood:                 12826.\n",
              "No. Observations:                 499   AIC:                        -2.562e+04\n",
              "Df Residuals:                     485   BIC:                        -2.557e+04\n",
              "Df Model:                          13                                         \n",
              "Covariance Type:            nonrobust                                         \n",
              "==============================================================================\n",
              "                 coef    std err          t      P>|t|      [0.025      0.975]\n",
              "------------------------------------------------------------------------------\n",
              "const      -2.853e-12   5.78e-13     -4.938      0.000   -3.99e-12   -1.72e-12\n",
              "x1          1.064e-12   1.49e-13      7.152      0.000    7.71e-13    1.36e-12\n",
              "x2          3.155e-12   3.27e-13      9.646      0.000    2.51e-12     3.8e-12\n",
              "x3          2.895e-13   4.58e-14      6.328      0.000       2e-13    3.79e-13\n",
              "x4          1.137e-13   4.82e-13      0.236      0.813   -8.33e-13    1.06e-12\n",
              "x5          1.227e-13   3.84e-14      3.198      0.001    4.73e-14    1.98e-13\n",
              "x6          3.411e-13   2.88e-13      1.183      0.238   -2.26e-13    9.08e-13\n",
              "x7         -3.588e-13   1.89e-13     -1.903      0.058   -7.29e-13    1.18e-14\n",
              "x8          1.101e-13   1.29e-13      0.855      0.393   -1.43e-13    3.63e-13\n",
              "x9         -1.084e-13   1.19e-13     -0.910      0.363   -3.42e-13    1.26e-13\n",
              "x10          6.55e-15      7e-15      0.936      0.350   -7.21e-15    2.03e-14\n",
              "x11        -3.086e-14   1.65e-14     -1.875      0.061   -6.32e-14    1.48e-15\n",
              "x12            1.0000   2.25e-16   4.44e+15      0.000       1.000       1.000\n",
              "x13            1.0000   1.53e-16   6.52e+15      0.000       1.000       1.000\n",
              "==============================================================================\n",
              "Omnibus:                       25.167   Durbin-Watson:                   0.163\n",
              "Prob(Omnibus):                  0.000   Jarque-Bera (JB):               21.483\n",
              "Skew:                          -0.433   Prob(JB):                     2.16e-05\n",
              "Kurtosis:                       2.467   Cond. No.                     2.66e+04\n",
              "==============================================================================\n",
              "\n",
              "Warnings:\n",
              "[1] Standard Errors assume that the covariance matrix of the errors is correctly specified.\n",
              "[2] The condition number is large, 2.66e+04. This might indicate that there are\n",
              "strong multicollinearity or other numerical problems.\n",
              "\"\"\""
            ]
          },
          "metadata": {
            "tags": []
          },
          "execution_count": 10
        }
      ]
    },
    {
      "cell_type": "markdown",
      "metadata": {
        "id": "TWGBwUPOqh7b"
      },
      "source": [
        "Now I define the backward elimination\n",
        "\n",
        "\n",
        "1.   Define a significance level for features (I chose 5 percent)\n",
        "2.   Fit the model with all features and start removing the feature with maximum P value if that P value is greater than our significance level\n",
        "\n",
        "3.  Now remove that column and fit the model with the reduced set of features\n",
        "\n",
        "4. Repeat until no such P values exist\n",
        "\n",
        "5. We now have our optimal features\n",
        "\n"
      ]
    },
    {
      "cell_type": "code",
      "metadata": {
        "id": "MpeaDg8jRe36"
      },
      "source": [
        "def backwardElimination(x, significance_level):\n",
        "    num_features = len(x[0])\n",
        "    for i in range(0, num_features):\n",
        "        regressor_OLS = sm.OLS(y, x).fit()\n",
        "        max_P_Value = max(regressor_OLS.pvalues).astype(float)\n",
        "        if max_P_Value > significance_level:\n",
        "            for j in range(0, num_features - i):\n",
        "                if (regressor_OLS.pvalues[j].astype(float) == max_P_Value):\n",
        "                    x = np.delete(x, j, 1)\n",
        "    regressor_OLS.summary()\n",
        "    return x"
      ],
      "execution_count": 11,
      "outputs": []
    },
    {
      "cell_type": "code",
      "metadata": {
        "id": "YwHjutipRf2-"
      },
      "source": [
        "SL = 0.05\n",
        "X_opt = X[:, [0, 1, 2, 3, 4, 5,6,7,8,9,10,11,12,13]]\n",
        "X_Modeled = backwardElimination(X_opt, SL)\n"
      ],
      "execution_count": 12,
      "outputs": []
    },
    {
      "cell_type": "markdown",
      "metadata": {
        "id": "CInIDFt5rvgE"
      },
      "source": [
        "As you can see below we get the optimal features and also the R-squared and Adjusted R-squared as 1 which is very promising"
      ]
    },
    {
      "cell_type": "code",
      "metadata": {
        "colab": {
          "base_uri": "https://localhost:8080/",
          "height": 583
        },
        "id": "ptwyx-7sRkw7",
        "outputId": "3d609784-b920-4407-9775-512ff8e2b02d"
      },
      "source": [
        "regressor_OLS = sm.OLS(endog=y, exog=X_Modeled).fit()\n",
        "regressor_OLS.summary()"
      ],
      "execution_count": 13,
      "outputs": [
        {
          "output_type": "execute_result",
          "data": {
            "text/html": [
              "<table class=\"simpletable\">\n",
              "<caption>OLS Regression Results</caption>\n",
              "<tr>\n",
              "  <th>Dep. Variable:</th>            <td>y</td>        <th>  R-squared:         </th>  <td>   1.000</td> \n",
              "</tr>\n",
              "<tr>\n",
              "  <th>Model:</th>                   <td>OLS</td>       <th>  Adj. R-squared:    </th>  <td>   1.000</td> \n",
              "</tr>\n",
              "<tr>\n",
              "  <th>Method:</th>             <td>Least Squares</td>  <th>  F-statistic:       </th>  <td>7.152e+31</td>\n",
              "</tr>\n",
              "<tr>\n",
              "  <th>Date:</th>             <td>Sat, 17 Apr 2021</td> <th>  Prob (F-statistic):</th>   <td>  0.00</td>  \n",
              "</tr>\n",
              "<tr>\n",
              "  <th>Time:</th>                 <td>16:34:20</td>     <th>  Log-Likelihood:    </th>  <td>  12831.</td> \n",
              "</tr>\n",
              "<tr>\n",
              "  <th>No. Observations:</th>      <td>   499</td>      <th>  AIC:               </th> <td>-2.565e+04</td>\n",
              "</tr>\n",
              "<tr>\n",
              "  <th>Df Residuals:</th>          <td>   492</td>      <th>  BIC:               </th> <td>-2.562e+04</td>\n",
              "</tr>\n",
              "<tr>\n",
              "  <th>Df Model:</th>              <td>     6</td>      <th>                     </th>      <td> </td>    \n",
              "</tr>\n",
              "<tr>\n",
              "  <th>Covariance Type:</th>      <td>nonrobust</td>    <th>                     </th>      <td> </td>    \n",
              "</tr>\n",
              "</table>\n",
              "<table class=\"simpletable\">\n",
              "<tr>\n",
              "    <td></td>       <th>coef</th>     <th>std err</th>      <th>t</th>      <th>P>|t|</th>  <th>[0.025</th>    <th>0.975]</th>  \n",
              "</tr>\n",
              "<tr>\n",
              "  <th>const</th> <td>-1.958e-12</td> <td> 3.35e-13</td> <td>   -5.850</td> <td> 0.000</td> <td>-2.62e-12</td> <td> -1.3e-12</td>\n",
              "</tr>\n",
              "<tr>\n",
              "  <th>x1</th>    <td>  8.58e-13</td> <td> 1.43e-13</td> <td>    6.018</td> <td> 0.000</td> <td> 5.78e-13</td> <td> 1.14e-12</td>\n",
              "</tr>\n",
              "<tr>\n",
              "  <th>x2</th>    <td> 3.382e-12</td> <td> 2.43e-13</td> <td>   13.947</td> <td> 0.000</td> <td> 2.91e-12</td> <td> 3.86e-12</td>\n",
              "</tr>\n",
              "<tr>\n",
              "  <th>x3</th>    <td> 2.132e-13</td> <td> 4.42e-14</td> <td>    4.821</td> <td> 0.000</td> <td> 1.26e-13</td> <td>    3e-13</td>\n",
              "</tr>\n",
              "<tr>\n",
              "  <th>x4</th>    <td>-3.353e-14</td> <td> 1.47e-14</td> <td>   -2.280</td> <td> 0.023</td> <td>-6.24e-14</td> <td>-4.64e-15</td>\n",
              "</tr>\n",
              "<tr>\n",
              "  <th>x5</th>    <td>    1.0000</td> <td> 1.33e-16</td> <td> 7.49e+15</td> <td> 0.000</td> <td>    1.000</td> <td>    1.000</td>\n",
              "</tr>\n",
              "<tr>\n",
              "  <th>x6</th>    <td>    1.0000</td> <td>  8.6e-17</td> <td> 1.16e+16</td> <td> 0.000</td> <td>    1.000</td> <td>    1.000</td>\n",
              "</tr>\n",
              "</table>\n",
              "<table class=\"simpletable\">\n",
              "<tr>\n",
              "  <th>Omnibus:</th>       <td>220.274</td> <th>  Durbin-Watson:     </th> <td>   0.098</td>\n",
              "</tr>\n",
              "<tr>\n",
              "  <th>Prob(Omnibus):</th> <td> 0.000</td>  <th>  Jarque-Bera (JB):  </th> <td>  29.669</td>\n",
              "</tr>\n",
              "<tr>\n",
              "  <th>Skew:</th>          <td> 0.173</td>  <th>  Prob(JB):          </th> <td>3.61e-07</td>\n",
              "</tr>\n",
              "<tr>\n",
              "  <th>Kurtosis:</th>      <td> 1.857</td>  <th>  Cond. No.          </th> <td>1.52e+04</td>\n",
              "</tr>\n",
              "</table><br/><br/>Warnings:<br/>[1] Standard Errors assume that the covariance matrix of the errors is correctly specified.<br/>[2] The condition number is large, 1.52e+04. This might indicate that there are<br/>strong multicollinearity or other numerical problems."
            ],
            "text/plain": [
              "<class 'statsmodels.iolib.summary.Summary'>\n",
              "\"\"\"\n",
              "                            OLS Regression Results                            \n",
              "==============================================================================\n",
              "Dep. Variable:                      y   R-squared:                       1.000\n",
              "Model:                            OLS   Adj. R-squared:                  1.000\n",
              "Method:                 Least Squares   F-statistic:                 7.152e+31\n",
              "Date:                Sat, 17 Apr 2021   Prob (F-statistic):               0.00\n",
              "Time:                        16:34:20   Log-Likelihood:                 12831.\n",
              "No. Observations:                 499   AIC:                        -2.565e+04\n",
              "Df Residuals:                     492   BIC:                        -2.562e+04\n",
              "Df Model:                           6                                         \n",
              "Covariance Type:            nonrobust                                         \n",
              "==============================================================================\n",
              "                 coef    std err          t      P>|t|      [0.025      0.975]\n",
              "------------------------------------------------------------------------------\n",
              "const      -1.958e-12   3.35e-13     -5.850      0.000   -2.62e-12    -1.3e-12\n",
              "x1           8.58e-13   1.43e-13      6.018      0.000    5.78e-13    1.14e-12\n",
              "x2          3.382e-12   2.43e-13     13.947      0.000    2.91e-12    3.86e-12\n",
              "x3          2.132e-13   4.42e-14      4.821      0.000    1.26e-13       3e-13\n",
              "x4         -3.353e-14   1.47e-14     -2.280      0.023   -6.24e-14   -4.64e-15\n",
              "x5             1.0000   1.33e-16   7.49e+15      0.000       1.000       1.000\n",
              "x6             1.0000    8.6e-17   1.16e+16      0.000       1.000       1.000\n",
              "==============================================================================\n",
              "Omnibus:                      220.274   Durbin-Watson:                   0.098\n",
              "Prob(Omnibus):                  0.000   Jarque-Bera (JB):               29.669\n",
              "Skew:                           0.173   Prob(JB):                     3.61e-07\n",
              "Kurtosis:                       1.857   Cond. No.                     1.52e+04\n",
              "==============================================================================\n",
              "\n",
              "Warnings:\n",
              "[1] Standard Errors assume that the covariance matrix of the errors is correctly specified.\n",
              "[2] The condition number is large, 1.52e+04. This might indicate that there are\n",
              "strong multicollinearity or other numerical problems.\n",
              "\"\"\""
            ]
          },
          "metadata": {
            "tags": []
          },
          "execution_count": 13
        }
      ]
    },
    {
      "cell_type": "markdown",
      "metadata": {
        "id": "pqcZJrKsr50p"
      },
      "source": [
        "**Now we will compare the original columns with our optimal ones to see which features were selected**"
      ]
    },
    {
      "cell_type": "code",
      "metadata": {
        "colab": {
          "base_uri": "https://localhost:8080/",
          "height": 359
        },
        "id": "C3Lo3zIcS_UU",
        "outputId": "95a17af9-7dbe-4994-a5f6-c56b29fcacac"
      },
      "source": [
        "pd.DataFrame(np.append(arr = np.ones((X.shape[0],1)).astype(int), values = X, axis = 1)[:10])\n"
      ],
      "execution_count": 14,
      "outputs": [
        {
          "output_type": "execute_result",
          "data": {
            "text/html": [
              "<div>\n",
              "<style scoped>\n",
              "    .dataframe tbody tr th:only-of-type {\n",
              "        vertical-align: middle;\n",
              "    }\n",
              "\n",
              "    .dataframe tbody tr th {\n",
              "        vertical-align: top;\n",
              "    }\n",
              "\n",
              "    .dataframe thead th {\n",
              "        text-align: right;\n",
              "    }\n",
              "</style>\n",
              "<table border=\"1\" class=\"dataframe\">\n",
              "  <thead>\n",
              "    <tr style=\"text-align: right;\">\n",
              "      <th></th>\n",
              "      <th>0</th>\n",
              "      <th>1</th>\n",
              "      <th>2</th>\n",
              "      <th>3</th>\n",
              "      <th>4</th>\n",
              "      <th>5</th>\n",
              "      <th>6</th>\n",
              "      <th>7</th>\n",
              "      <th>8</th>\n",
              "      <th>9</th>\n",
              "      <th>10</th>\n",
              "      <th>11</th>\n",
              "      <th>12</th>\n",
              "      <th>13</th>\n",
              "      <th>14</th>\n",
              "    </tr>\n",
              "  </thead>\n",
              "  <tbody>\n",
              "    <tr>\n",
              "      <th>0</th>\n",
              "      <td>1.0</td>\n",
              "      <td>1.0</td>\n",
              "      <td>1.0</td>\n",
              "      <td>0.0</td>\n",
              "      <td>1.0</td>\n",
              "      <td>0.0</td>\n",
              "      <td>6.0</td>\n",
              "      <td>0.0</td>\n",
              "      <td>2.0</td>\n",
              "      <td>14.110847</td>\n",
              "      <td>18.18125</td>\n",
              "      <td>80.5833</td>\n",
              "      <td>10.749882</td>\n",
              "      <td>331.0</td>\n",
              "      <td>654.0</td>\n",
              "    </tr>\n",
              "    <tr>\n",
              "      <th>1</th>\n",
              "      <td>1.0</td>\n",
              "      <td>1.0</td>\n",
              "      <td>1.0</td>\n",
              "      <td>0.0</td>\n",
              "      <td>1.0</td>\n",
              "      <td>0.0</td>\n",
              "      <td>0.0</td>\n",
              "      <td>0.0</td>\n",
              "      <td>2.0</td>\n",
              "      <td>14.902598</td>\n",
              "      <td>17.68695</td>\n",
              "      <td>69.6087</td>\n",
              "      <td>16.652113</td>\n",
              "      <td>131.0</td>\n",
              "      <td>670.0</td>\n",
              "    </tr>\n",
              "    <tr>\n",
              "      <th>2</th>\n",
              "      <td>1.0</td>\n",
              "      <td>1.0</td>\n",
              "      <td>1.0</td>\n",
              "      <td>0.0</td>\n",
              "      <td>1.0</td>\n",
              "      <td>0.0</td>\n",
              "      <td>1.0</td>\n",
              "      <td>1.0</td>\n",
              "      <td>1.0</td>\n",
              "      <td>8.050924</td>\n",
              "      <td>9.47025</td>\n",
              "      <td>43.7273</td>\n",
              "      <td>16.636703</td>\n",
              "      <td>120.0</td>\n",
              "      <td>1229.0</td>\n",
              "    </tr>\n",
              "    <tr>\n",
              "      <th>3</th>\n",
              "      <td>1.0</td>\n",
              "      <td>1.0</td>\n",
              "      <td>1.0</td>\n",
              "      <td>0.0</td>\n",
              "      <td>1.0</td>\n",
              "      <td>0.0</td>\n",
              "      <td>2.0</td>\n",
              "      <td>1.0</td>\n",
              "      <td>1.0</td>\n",
              "      <td>8.200000</td>\n",
              "      <td>10.60610</td>\n",
              "      <td>59.0435</td>\n",
              "      <td>10.739832</td>\n",
              "      <td>108.0</td>\n",
              "      <td>1454.0</td>\n",
              "    </tr>\n",
              "    <tr>\n",
              "      <th>4</th>\n",
              "      <td>1.0</td>\n",
              "      <td>1.0</td>\n",
              "      <td>1.0</td>\n",
              "      <td>0.0</td>\n",
              "      <td>1.0</td>\n",
              "      <td>0.0</td>\n",
              "      <td>3.0</td>\n",
              "      <td>1.0</td>\n",
              "      <td>1.0</td>\n",
              "      <td>9.305237</td>\n",
              "      <td>11.46350</td>\n",
              "      <td>43.6957</td>\n",
              "      <td>12.522300</td>\n",
              "      <td>82.0</td>\n",
              "      <td>1518.0</td>\n",
              "    </tr>\n",
              "    <tr>\n",
              "      <th>5</th>\n",
              "      <td>1.0</td>\n",
              "      <td>1.0</td>\n",
              "      <td>1.0</td>\n",
              "      <td>0.0</td>\n",
              "      <td>1.0</td>\n",
              "      <td>0.0</td>\n",
              "      <td>4.0</td>\n",
              "      <td>1.0</td>\n",
              "      <td>1.0</td>\n",
              "      <td>8.378268</td>\n",
              "      <td>11.66045</td>\n",
              "      <td>51.8261</td>\n",
              "      <td>6.000868</td>\n",
              "      <td>88.0</td>\n",
              "      <td>1518.0</td>\n",
              "    </tr>\n",
              "    <tr>\n",
              "      <th>6</th>\n",
              "      <td>1.0</td>\n",
              "      <td>1.0</td>\n",
              "      <td>1.0</td>\n",
              "      <td>0.0</td>\n",
              "      <td>1.0</td>\n",
              "      <td>0.0</td>\n",
              "      <td>5.0</td>\n",
              "      <td>1.0</td>\n",
              "      <td>2.0</td>\n",
              "      <td>8.057402</td>\n",
              "      <td>10.44195</td>\n",
              "      <td>49.8696</td>\n",
              "      <td>11.304642</td>\n",
              "      <td>148.0</td>\n",
              "      <td>1362.0</td>\n",
              "    </tr>\n",
              "    <tr>\n",
              "      <th>7</th>\n",
              "      <td>1.0</td>\n",
              "      <td>1.0</td>\n",
              "      <td>1.0</td>\n",
              "      <td>0.0</td>\n",
              "      <td>1.0</td>\n",
              "      <td>0.0</td>\n",
              "      <td>6.0</td>\n",
              "      <td>0.0</td>\n",
              "      <td>2.0</td>\n",
              "      <td>6.765000</td>\n",
              "      <td>8.11270</td>\n",
              "      <td>53.5833</td>\n",
              "      <td>17.875868</td>\n",
              "      <td>68.0</td>\n",
              "      <td>891.0</td>\n",
              "    </tr>\n",
              "    <tr>\n",
              "      <th>8</th>\n",
              "      <td>1.0</td>\n",
              "      <td>1.0</td>\n",
              "      <td>1.0</td>\n",
              "      <td>0.0</td>\n",
              "      <td>1.0</td>\n",
              "      <td>0.0</td>\n",
              "      <td>0.0</td>\n",
              "      <td>0.0</td>\n",
              "      <td>1.0</td>\n",
              "      <td>5.671653</td>\n",
              "      <td>5.80875</td>\n",
              "      <td>43.4167</td>\n",
              "      <td>24.250650</td>\n",
              "      <td>54.0</td>\n",
              "      <td>768.0</td>\n",
              "    </tr>\n",
              "    <tr>\n",
              "      <th>9</th>\n",
              "      <td>1.0</td>\n",
              "      <td>1.0</td>\n",
              "      <td>1.0</td>\n",
              "      <td>0.0</td>\n",
              "      <td>1.0</td>\n",
              "      <td>0.0</td>\n",
              "      <td>1.0</td>\n",
              "      <td>1.0</td>\n",
              "      <td>1.0</td>\n",
              "      <td>6.184153</td>\n",
              "      <td>7.54440</td>\n",
              "      <td>48.2917</td>\n",
              "      <td>14.958889</td>\n",
              "      <td>41.0</td>\n",
              "      <td>1280.0</td>\n",
              "    </tr>\n",
              "  </tbody>\n",
              "</table>\n",
              "</div>"
            ],
            "text/plain": [
              "    0    1    2    3    4   ...        10       11         12     13      14\n",
              "0  1.0  1.0  1.0  0.0  1.0  ...  18.18125  80.5833  10.749882  331.0   654.0\n",
              "1  1.0  1.0  1.0  0.0  1.0  ...  17.68695  69.6087  16.652113  131.0   670.0\n",
              "2  1.0  1.0  1.0  0.0  1.0  ...   9.47025  43.7273  16.636703  120.0  1229.0\n",
              "3  1.0  1.0  1.0  0.0  1.0  ...  10.60610  59.0435  10.739832  108.0  1454.0\n",
              "4  1.0  1.0  1.0  0.0  1.0  ...  11.46350  43.6957  12.522300   82.0  1518.0\n",
              "5  1.0  1.0  1.0  0.0  1.0  ...  11.66045  51.8261   6.000868   88.0  1518.0\n",
              "6  1.0  1.0  1.0  0.0  1.0  ...  10.44195  49.8696  11.304642  148.0  1362.0\n",
              "7  1.0  1.0  1.0  0.0  1.0  ...   8.11270  53.5833  17.875868   68.0   891.0\n",
              "8  1.0  1.0  1.0  0.0  1.0  ...   5.80875  43.4167  24.250650   54.0   768.0\n",
              "9  1.0  1.0  1.0  0.0  1.0  ...   7.54440  48.2917  14.958889   41.0  1280.0\n",
              "\n",
              "[10 rows x 15 columns]"
            ]
          },
          "metadata": {
            "tags": []
          },
          "execution_count": 14
        }
      ]
    },
    {
      "cell_type": "code",
      "metadata": {
        "colab": {
          "base_uri": "https://localhost:8080/",
          "height": 359
        },
        "id": "A5Qfv_k4S93d",
        "outputId": "f2289082-6b62-4244-95bb-05912cb03b93"
      },
      "source": [
        "pd.DataFrame(X_Modeled[:10])"
      ],
      "execution_count": 15,
      "outputs": [
        {
          "output_type": "execute_result",
          "data": {
            "text/html": [
              "<div>\n",
              "<style scoped>\n",
              "    .dataframe tbody tr th:only-of-type {\n",
              "        vertical-align: middle;\n",
              "    }\n",
              "\n",
              "    .dataframe tbody tr th {\n",
              "        vertical-align: top;\n",
              "    }\n",
              "\n",
              "    .dataframe thead th {\n",
              "        text-align: right;\n",
              "    }\n",
              "</style>\n",
              "<table border=\"1\" class=\"dataframe\">\n",
              "  <thead>\n",
              "    <tr style=\"text-align: right;\">\n",
              "      <th></th>\n",
              "      <th>0</th>\n",
              "      <th>1</th>\n",
              "      <th>2</th>\n",
              "      <th>3</th>\n",
              "      <th>4</th>\n",
              "      <th>5</th>\n",
              "      <th>6</th>\n",
              "    </tr>\n",
              "  </thead>\n",
              "  <tbody>\n",
              "    <tr>\n",
              "      <th>0</th>\n",
              "      <td>1.0</td>\n",
              "      <td>1.0</td>\n",
              "      <td>0.0</td>\n",
              "      <td>1.0</td>\n",
              "      <td>10.749882</td>\n",
              "      <td>331.0</td>\n",
              "      <td>654.0</td>\n",
              "    </tr>\n",
              "    <tr>\n",
              "      <th>1</th>\n",
              "      <td>1.0</td>\n",
              "      <td>1.0</td>\n",
              "      <td>0.0</td>\n",
              "      <td>1.0</td>\n",
              "      <td>16.652113</td>\n",
              "      <td>131.0</td>\n",
              "      <td>670.0</td>\n",
              "    </tr>\n",
              "    <tr>\n",
              "      <th>2</th>\n",
              "      <td>1.0</td>\n",
              "      <td>1.0</td>\n",
              "      <td>0.0</td>\n",
              "      <td>1.0</td>\n",
              "      <td>16.636703</td>\n",
              "      <td>120.0</td>\n",
              "      <td>1229.0</td>\n",
              "    </tr>\n",
              "    <tr>\n",
              "      <th>3</th>\n",
              "      <td>1.0</td>\n",
              "      <td>1.0</td>\n",
              "      <td>0.0</td>\n",
              "      <td>1.0</td>\n",
              "      <td>10.739832</td>\n",
              "      <td>108.0</td>\n",
              "      <td>1454.0</td>\n",
              "    </tr>\n",
              "    <tr>\n",
              "      <th>4</th>\n",
              "      <td>1.0</td>\n",
              "      <td>1.0</td>\n",
              "      <td>0.0</td>\n",
              "      <td>1.0</td>\n",
              "      <td>12.522300</td>\n",
              "      <td>82.0</td>\n",
              "      <td>1518.0</td>\n",
              "    </tr>\n",
              "    <tr>\n",
              "      <th>5</th>\n",
              "      <td>1.0</td>\n",
              "      <td>1.0</td>\n",
              "      <td>0.0</td>\n",
              "      <td>1.0</td>\n",
              "      <td>6.000868</td>\n",
              "      <td>88.0</td>\n",
              "      <td>1518.0</td>\n",
              "    </tr>\n",
              "    <tr>\n",
              "      <th>6</th>\n",
              "      <td>1.0</td>\n",
              "      <td>1.0</td>\n",
              "      <td>0.0</td>\n",
              "      <td>1.0</td>\n",
              "      <td>11.304642</td>\n",
              "      <td>148.0</td>\n",
              "      <td>1362.0</td>\n",
              "    </tr>\n",
              "    <tr>\n",
              "      <th>7</th>\n",
              "      <td>1.0</td>\n",
              "      <td>1.0</td>\n",
              "      <td>0.0</td>\n",
              "      <td>1.0</td>\n",
              "      <td>17.875868</td>\n",
              "      <td>68.0</td>\n",
              "      <td>891.0</td>\n",
              "    </tr>\n",
              "    <tr>\n",
              "      <th>8</th>\n",
              "      <td>1.0</td>\n",
              "      <td>1.0</td>\n",
              "      <td>0.0</td>\n",
              "      <td>1.0</td>\n",
              "      <td>24.250650</td>\n",
              "      <td>54.0</td>\n",
              "      <td>768.0</td>\n",
              "    </tr>\n",
              "    <tr>\n",
              "      <th>9</th>\n",
              "      <td>1.0</td>\n",
              "      <td>1.0</td>\n",
              "      <td>0.0</td>\n",
              "      <td>1.0</td>\n",
              "      <td>14.958889</td>\n",
              "      <td>41.0</td>\n",
              "      <td>1280.0</td>\n",
              "    </tr>\n",
              "  </tbody>\n",
              "</table>\n",
              "</div>"
            ],
            "text/plain": [
              "     0    1    2    3          4      5       6\n",
              "0  1.0  1.0  0.0  1.0  10.749882  331.0   654.0\n",
              "1  1.0  1.0  0.0  1.0  16.652113  131.0   670.0\n",
              "2  1.0  1.0  0.0  1.0  16.636703  120.0  1229.0\n",
              "3  1.0  1.0  0.0  1.0  10.739832  108.0  1454.0\n",
              "4  1.0  1.0  0.0  1.0  12.522300   82.0  1518.0\n",
              "5  1.0  1.0  0.0  1.0   6.000868   88.0  1518.0\n",
              "6  1.0  1.0  0.0  1.0  11.304642  148.0  1362.0\n",
              "7  1.0  1.0  0.0  1.0  17.875868   68.0   891.0\n",
              "8  1.0  1.0  0.0  1.0  24.250650   54.0   768.0\n",
              "9  1.0  1.0  0.0  1.0  14.958889   41.0  1280.0"
            ]
          },
          "metadata": {
            "tags": []
          },
          "execution_count": 15
        }
      ]
    },
    {
      "cell_type": "markdown",
      "metadata": {
        "id": "NQut9DfusL_j"
      },
      "source": [
        "As we can see columns  **season , yr , month ,windspeed,casual and registered matter** the most and are enough to build a model (leaving aside the first bias column)\n",
        "\n",
        "We can also see from the coefficients that all but the **windspeed** column are positively correlated.\n",
        "*The casual and registered column hold alot of meaning and have large coefficients per unit value of the columns.*"
      ]
    },
    {
      "cell_type": "code",
      "metadata": {
        "colab": {
          "base_uri": "https://localhost:8080/"
        },
        "id": "et4lV-zVT5kS",
        "outputId": "e4c630a7-3e57-4090-8674-e8e1eaecbf9f"
      },
      "source": [
        "from sklearn.model_selection import train_test_split\n",
        "X_train, X_test, y_train, y_test = train_test_split(X_Modeled[:,1:], y, test_size = 0.2, random_state = 0) #Splitting by 80 percent-20 percent\n",
        "print(X_train.shape)\n",
        "print(X_test.shape)\n",
        "print(y_train.shape)\n",
        "print(y_test.shape)"
      ],
      "execution_count": 17,
      "outputs": [
        {
          "output_type": "stream",
          "text": [
            "(399, 6)\n",
            "(100, 6)\n",
            "(399,)\n",
            "(100,)\n"
          ],
          "name": "stdout"
        }
      ]
    },
    {
      "cell_type": "markdown",
      "metadata": {
        "id": "OBADhJh1u9CA"
      },
      "source": [
        "Fitting the regressor using optimal features. Note that the normalize attribute is set to true and hence we need not scale and centre the data manually"
      ]
    },
    {
      "cell_type": "code",
      "metadata": {
        "colab": {
          "base_uri": "https://localhost:8080/"
        },
        "id": "lQNpL5DWWQcC",
        "outputId": "d0c2a2b4-87b4-4304-8c06-1d8b04ad024e"
      },
      "source": [
        "from sklearn.linear_model import LinearRegression\n",
        "regressor = LinearRegression()\n",
        "regressor.normalize=True \n",
        "regressor.fit(X_train, y_train)"
      ],
      "execution_count": 18,
      "outputs": [
        {
          "output_type": "execute_result",
          "data": {
            "text/plain": [
              "LinearRegression(copy_X=True, fit_intercept=True, n_jobs=None, normalize=True)"
            ]
          },
          "metadata": {
            "tags": []
          },
          "execution_count": 18
        }
      ]
    },
    {
      "cell_type": "markdown",
      "metadata": {
        "id": "Lg9x8vAxvO2X"
      },
      "source": [
        "**Using the R2 score metric as said in the question**"
      ]
    },
    {
      "cell_type": "code",
      "metadata": {
        "colab": {
          "base_uri": "https://localhost:8080/"
        },
        "id": "Lj64EcIfvYHH",
        "outputId": "9d8a980b-765f-480a-9262-861241a8f2b1"
      },
      "source": [
        "y_pred=regressor.predict(X_test)\n",
        "y_pred.shape"
      ],
      "execution_count": 21,
      "outputs": [
        {
          "output_type": "execute_result",
          "data": {
            "text/plain": [
              "(100,)"
            ]
          },
          "metadata": {
            "tags": []
          },
          "execution_count": 21
        }
      ]
    },
    {
      "cell_type": "code",
      "metadata": {
        "colab": {
          "base_uri": "https://localhost:8080/"
        },
        "id": "5N5MsoI6WeA9",
        "outputId": "6ad7fea8-8631-4afd-b25c-63317d595dd9"
      },
      "source": [
        "from sklearn.metrics import r2_score\n",
        "r2_score(y_test,y_pred)"
      ],
      "execution_count": 22,
      "outputs": [
        {
          "output_type": "execute_result",
          "data": {
            "text/plain": [
              "1.0"
            ]
          },
          "metadata": {
            "tags": []
          },
          "execution_count": 22
        }
      ]
    },
    {
      "cell_type": "markdown",
      "metadata": {
        "id": "8vn8tSCTvtlK"
      },
      "source": [
        "**Also verifying the mean squared error**"
      ]
    },
    {
      "cell_type": "code",
      "metadata": {
        "colab": {
          "base_uri": "https://localhost:8080/"
        },
        "id": "u7uv8oO8eWI6",
        "outputId": "7b42c5f7-0236-4274-b95c-8ff19459b68b"
      },
      "source": [
        "from sklearn.metrics import mean_squared_error\n",
        "mean_squared_error(y_test, y_pred)\n",
        "\n"
      ],
      "execution_count": 23,
      "outputs": [
        {
          "output_type": "execute_result",
          "data": {
            "text/plain": [
              "1.1696850849382657e-24"
            ]
          },
          "metadata": {
            "tags": []
          },
          "execution_count": 23
        }
      ]
    },
    {
      "cell_type": "markdown",
      "metadata": {
        "id": "9pX7SV4Lvw5M"
      },
      "source": [
        "***As we can see both metrics are very good the R squared is 1.0 and MSE is so close to 0.***"
      ]
    },
    {
      "cell_type": "markdown",
      "metadata": {
        "id": "seQ0dfp_v7D6"
      },
      "source": [
        "Additionally I will also predict on the test.csv file although the cnt column is not available in this kaggle dataset so if you have a test column ready please verify the initial values"
      ]
    },
    {
      "cell_type": "code",
      "metadata": {
        "colab": {
          "base_uri": "https://localhost:8080/",
          "height": 309
        },
        "id": "x-zeZKMBwOKO",
        "outputId": "e878bd05-13d9-4502-bd84-c37f3ece6ec4"
      },
      "source": [
        "additional_ds = pd.read_csv('test.csv')\n",
        "additional_ds.head()"
      ],
      "execution_count": 24,
      "outputs": [
        {
          "output_type": "execute_result",
          "data": {
            "text/html": [
              "<div>\n",
              "<style scoped>\n",
              "    .dataframe tbody tr th:only-of-type {\n",
              "        vertical-align: middle;\n",
              "    }\n",
              "\n",
              "    .dataframe tbody tr th {\n",
              "        vertical-align: top;\n",
              "    }\n",
              "\n",
              "    .dataframe thead th {\n",
              "        text-align: right;\n",
              "    }\n",
              "</style>\n",
              "<table border=\"1\" class=\"dataframe\">\n",
              "  <thead>\n",
              "    <tr style=\"text-align: right;\">\n",
              "      <th></th>\n",
              "      <th>instant</th>\n",
              "      <th>dteday</th>\n",
              "      <th>season</th>\n",
              "      <th>yr</th>\n",
              "      <th>mnth</th>\n",
              "      <th>holiday</th>\n",
              "      <th>weekday</th>\n",
              "      <th>workingday</th>\n",
              "      <th>weathersit</th>\n",
              "      <th>temp</th>\n",
              "      <th>atemp</th>\n",
              "      <th>hum</th>\n",
              "      <th>windspeed</th>\n",
              "      <th>casual</th>\n",
              "      <th>registered</th>\n",
              "    </tr>\n",
              "  </thead>\n",
              "  <tbody>\n",
              "    <tr>\n",
              "      <th>0</th>\n",
              "      <td>501</td>\n",
              "      <td>16-05-2019</td>\n",
              "      <td>2</td>\n",
              "      <td>1</td>\n",
              "      <td>5</td>\n",
              "      <td>0</td>\n",
              "      <td>3</td>\n",
              "      <td>1</td>\n",
              "      <td>1</td>\n",
              "      <td>26.103347</td>\n",
              "      <td>29.79875</td>\n",
              "      <td>69.7917</td>\n",
              "      <td>8.208304</td>\n",
              "      <td>991</td>\n",
              "      <td>6433</td>\n",
              "    </tr>\n",
              "    <tr>\n",
              "      <th>1</th>\n",
              "      <td>502</td>\n",
              "      <td>17-05-2019</td>\n",
              "      <td>2</td>\n",
              "      <td>1</td>\n",
              "      <td>5</td>\n",
              "      <td>0</td>\n",
              "      <td>4</td>\n",
              "      <td>1</td>\n",
              "      <td>1</td>\n",
              "      <td>24.326653</td>\n",
              "      <td>28.63065</td>\n",
              "      <td>52.0000</td>\n",
              "      <td>15.374825</td>\n",
              "      <td>1242</td>\n",
              "      <td>6142</td>\n",
              "    </tr>\n",
              "    <tr>\n",
              "      <th>2</th>\n",
              "      <td>503</td>\n",
              "      <td>18-05-2019</td>\n",
              "      <td>2</td>\n",
              "      <td>1</td>\n",
              "      <td>5</td>\n",
              "      <td>0</td>\n",
              "      <td>5</td>\n",
              "      <td>1</td>\n",
              "      <td>1</td>\n",
              "      <td>23.130847</td>\n",
              "      <td>27.55605</td>\n",
              "      <td>52.3333</td>\n",
              "      <td>9.166739</td>\n",
              "      <td>1521</td>\n",
              "      <td>6118</td>\n",
              "    </tr>\n",
              "    <tr>\n",
              "      <th>3</th>\n",
              "      <td>504</td>\n",
              "      <td>19-05-2019</td>\n",
              "      <td>2</td>\n",
              "      <td>1</td>\n",
              "      <td>5</td>\n",
              "      <td>0</td>\n",
              "      <td>6</td>\n",
              "      <td>0</td>\n",
              "      <td>1</td>\n",
              "      <td>24.600000</td>\n",
              "      <td>28.34540</td>\n",
              "      <td>45.6250</td>\n",
              "      <td>5.626325</td>\n",
              "      <td>3410</td>\n",
              "      <td>4884</td>\n",
              "    </tr>\n",
              "    <tr>\n",
              "      <th>4</th>\n",
              "      <td>505</td>\n",
              "      <td>20-05-2019</td>\n",
              "      <td>2</td>\n",
              "      <td>1</td>\n",
              "      <td>5</td>\n",
              "      <td>0</td>\n",
              "      <td>0</td>\n",
              "      <td>0</td>\n",
              "      <td>1</td>\n",
              "      <td>25.454153</td>\n",
              "      <td>29.19835</td>\n",
              "      <td>53.0417</td>\n",
              "      <td>17.042589</td>\n",
              "      <td>2704</td>\n",
              "      <td>4425</td>\n",
              "    </tr>\n",
              "  </tbody>\n",
              "</table>\n",
              "</div>"
            ],
            "text/plain": [
              "   instant      dteday  season  yr  ...      hum  windspeed  casual  registered\n",
              "0      501  16-05-2019       2   1  ...  69.7917   8.208304     991        6433\n",
              "1      502  17-05-2019       2   1  ...  52.0000  15.374825    1242        6142\n",
              "2      503  18-05-2019       2   1  ...  52.3333   9.166739    1521        6118\n",
              "3      504  19-05-2019       2   1  ...  45.6250   5.626325    3410        4884\n",
              "4      505  20-05-2019       2   1  ...  53.0417  17.042589    2704        4425\n",
              "\n",
              "[5 rows x 15 columns]"
            ]
          },
          "metadata": {
            "tags": []
          },
          "execution_count": 24
        }
      ]
    },
    {
      "cell_type": "code",
      "metadata": {
        "colab": {
          "base_uri": "https://localhost:8080/"
        },
        "id": "_q9F8jvTwXYT",
        "outputId": "a785799d-2167-4030-f8d3-afedb1f8b335"
      },
      "source": [
        "#As we see the cnt column is missing, nevertheless I will predict it using our model\n",
        "X_additional=additional_ds.iloc[:,[2,3,4,12,13,14]].values\n",
        "X_additional.shape"
      ],
      "execution_count": 27,
      "outputs": [
        {
          "output_type": "execute_result",
          "data": {
            "text/plain": [
              "(230, 6)"
            ]
          },
          "metadata": {
            "tags": []
          },
          "execution_count": 27
        }
      ]
    },
    {
      "cell_type": "code",
      "metadata": {
        "colab": {
          "base_uri": "https://localhost:8080/"
        },
        "id": "E65D5jTQxM3Y",
        "outputId": "e38ddc48-3284-484c-e065-19b6f9599430"
      },
      "source": [
        "y_predicted_additional=regressor.predict(X_additional)\n",
        "y_predicted_additional.shape"
      ],
      "execution_count": 28,
      "outputs": [
        {
          "output_type": "execute_result",
          "data": {
            "text/plain": [
              "(230,)"
            ]
          },
          "metadata": {
            "tags": []
          },
          "execution_count": 28
        }
      ]
    },
    {
      "cell_type": "code",
      "metadata": {
        "colab": {
          "base_uri": "https://localhost:8080/",
          "height": 669
        },
        "id": "_QXyh8ZTxVmM",
        "outputId": "cb0fb82e-e090-4201-f462-1e49900410c5"
      },
      "source": [
        "pd.DataFrame(y_predicted_additional[:20]) #First 20 values"
      ],
      "execution_count": 29,
      "outputs": [
        {
          "output_type": "execute_result",
          "data": {
            "text/html": [
              "<div>\n",
              "<style scoped>\n",
              "    .dataframe tbody tr th:only-of-type {\n",
              "        vertical-align: middle;\n",
              "    }\n",
              "\n",
              "    .dataframe tbody tr th {\n",
              "        vertical-align: top;\n",
              "    }\n",
              "\n",
              "    .dataframe thead th {\n",
              "        text-align: right;\n",
              "    }\n",
              "</style>\n",
              "<table border=\"1\" class=\"dataframe\">\n",
              "  <thead>\n",
              "    <tr style=\"text-align: right;\">\n",
              "      <th></th>\n",
              "      <th>0</th>\n",
              "    </tr>\n",
              "  </thead>\n",
              "  <tbody>\n",
              "    <tr>\n",
              "      <th>0</th>\n",
              "      <td>7424.0</td>\n",
              "    </tr>\n",
              "    <tr>\n",
              "      <th>1</th>\n",
              "      <td>7384.0</td>\n",
              "    </tr>\n",
              "    <tr>\n",
              "      <th>2</th>\n",
              "      <td>7639.0</td>\n",
              "    </tr>\n",
              "    <tr>\n",
              "      <th>3</th>\n",
              "      <td>8294.0</td>\n",
              "    </tr>\n",
              "    <tr>\n",
              "      <th>4</th>\n",
              "      <td>7129.0</td>\n",
              "    </tr>\n",
              "    <tr>\n",
              "      <th>5</th>\n",
              "      <td>4359.0</td>\n",
              "    </tr>\n",
              "    <tr>\n",
              "      <th>6</th>\n",
              "      <td>6073.0</td>\n",
              "    </tr>\n",
              "    <tr>\n",
              "      <th>7</th>\n",
              "      <td>5260.0</td>\n",
              "    </tr>\n",
              "    <tr>\n",
              "      <th>8</th>\n",
              "      <td>6770.0</td>\n",
              "    </tr>\n",
              "    <tr>\n",
              "      <th>9</th>\n",
              "      <td>6734.0</td>\n",
              "    </tr>\n",
              "    <tr>\n",
              "      <th>10</th>\n",
              "      <td>6536.0</td>\n",
              "    </tr>\n",
              "    <tr>\n",
              "      <th>11</th>\n",
              "      <td>6591.0</td>\n",
              "    </tr>\n",
              "    <tr>\n",
              "      <th>12</th>\n",
              "      <td>6043.0</td>\n",
              "    </tr>\n",
              "    <tr>\n",
              "      <th>13</th>\n",
              "      <td>5743.0</td>\n",
              "    </tr>\n",
              "    <tr>\n",
              "      <th>14</th>\n",
              "      <td>6855.0</td>\n",
              "    </tr>\n",
              "    <tr>\n",
              "      <th>15</th>\n",
              "      <td>7338.0</td>\n",
              "    </tr>\n",
              "    <tr>\n",
              "      <th>16</th>\n",
              "      <td>4127.0</td>\n",
              "    </tr>\n",
              "    <tr>\n",
              "      <th>17</th>\n",
              "      <td>8120.0</td>\n",
              "    </tr>\n",
              "    <tr>\n",
              "      <th>18</th>\n",
              "      <td>7641.0</td>\n",
              "    </tr>\n",
              "    <tr>\n",
              "      <th>19</th>\n",
              "      <td>6998.0</td>\n",
              "    </tr>\n",
              "  </tbody>\n",
              "</table>\n",
              "</div>"
            ],
            "text/plain": [
              "         0\n",
              "0   7424.0\n",
              "1   7384.0\n",
              "2   7639.0\n",
              "3   8294.0\n",
              "4   7129.0\n",
              "5   4359.0\n",
              "6   6073.0\n",
              "7   5260.0\n",
              "8   6770.0\n",
              "9   6734.0\n",
              "10  6536.0\n",
              "11  6591.0\n",
              "12  6043.0\n",
              "13  5743.0\n",
              "14  6855.0\n",
              "15  7338.0\n",
              "16  4127.0\n",
              "17  8120.0\n",
              "18  7641.0\n",
              "19  6998.0"
            ]
          },
          "metadata": {
            "tags": []
          },
          "execution_count": 29
        }
      ]
    }
  ]
}